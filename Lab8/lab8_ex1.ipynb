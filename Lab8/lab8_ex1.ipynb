{
  "nbformat": 4,
  "nbformat_minor": 0,
  "metadata": {
    "colab": {
      "name": "Untitled2.ipynb",
      "provenance": [],
      "toc_visible": true
    },
    "kernelspec": {
      "name": "python3",
      "display_name": "Python 3"
    },
    "language_info": {
      "name": "python"
    }
  },
  "cells": [
    {
      "cell_type": "code",
      "metadata": {
        "id": "NkL-_F3_Jego"
      },
      "source": [
        "import numpy as np \n",
        "import pandas as pd \n",
        "from sklearn import datasets\n",
        "from sklearn.cluster import KMeans\n",
        "import matplotlib.pyplot as plt"
      ],
      "execution_count": 1,
      "outputs": []
    },
    {
      "cell_type": "code",
      "metadata": {
        "colab": {
          "base_uri": "https://localhost:8080/"
        },
        "id": "QjDAvxGQJ4Mu",
        "outputId": "4d91faf2-df82-4b10-d3bf-07b84f775df9"
      },
      "source": [
        "dataset=datasets.load_breast_cancer()\n",
        "dataset\n",
        "\n",
        "print(dataset.data.shape)\n",
        "print(dataset.target.shape)"
      ],
      "execution_count": 2,
      "outputs": [
        {
          "output_type": "stream",
          "name": "stdout",
          "text": [
            "(569, 30)\n",
            "(569,)\n"
          ]
        }
      ]
    },
    {
      "cell_type": "code",
      "metadata": {
        "colab": {
          "base_uri": "https://localhost:8080/"
        },
        "id": "YezvjU0wJ7Yg",
        "outputId": "81e5d48f-4627-4a83-e7f3-e2e7a22ed28b"
      },
      "source": [
        "kmeans = KMeans(n_clusters=10, random_state=8)\n",
        "prediction = kmeans.fit_predict(dataset.data)\n",
        "print(prediction)\n",
        "\n",
        "kmeans.cluster_centers_.shape\n",
        "print(kmeans.cluster_centers_)"
      ],
      "execution_count": 6,
      "outputs": [
        {
          "output_type": "stream",
          "name": "stdout",
          "text": [
            "[1 1 1 9 7 0 7 4 0 0 3 3 7 4 0 4 3 3 8 0 0 6 4 8 1 7 4 7 3 3 7 4 3 1 3 3 4\n",
            " 9 0 0 0 9 7 4 0 7 6 0 9 0 9 0 9 3 4 9 1 4 0 6 6 6 4 6 4 4 6 9 6 9 1 6 7 4\n",
            " 0 3 0 7 7 0 9 0 2 7 9 7 4 7 9 4 4 4 4 0 4 1 9 6 9 4 4 6 9 6 6 4 9 9 8 9 6\n",
            " 9 0 6 6 9 6 3 3 3 9 7 8 0 0 0 4 7 4 7 9 3 3 4 7 0 9 9 4 9 6 3 9 0 9 9 9 4\n",
            " 4 0 0 6 6 9 0 9 3 3 9 9 9 7 8 9 8 4 6 3 7 4 9 4 3 6 6 6 6 4 0 9 2 8 3 9 4\n",
            " 6 7 9 9 9 0 0 6 0 4 0 4 3 7 4 0 3 8 3 0 4 6 3 0 4 1 9 2 3 4 0 9 6 1 8 0 0\n",
            " 6 3 0 4 6 4 0 0 3 9 9 1 6 0 2 1 4 3 0 9 9 0 7 6 0 0 9 9 1 9 1 3 1 4 1 4 3\n",
            " 4 1 3 3 4 7 2 6 0 0 6 0 9 8 6 3 9 9 3 0 0 1 9 7 3 0 9 9 0 9 9 4 4 0 9 9 0\n",
            " 6 9 4 6 1 9 1 6 9 9 0 6 0 0 9 4 0 9 6 9 9 7 6 9 6 1 0 1 9 9 0 9 3 4 3 0 9\n",
            " 9 9 3 0 1 6 2 4 6 9 7 9 6 9 4 9 9 9 4 2 4 9 9 0 0 6 6 9 0 9 3 0 1 1 0 2 8\n",
            " 3 4 7 1 0 4 6 0 0 9 9 9 9 9 0 4 9 0 9 7 6 6 3 8 9 0 0 0 9 9 3 9 0 0 9 9 4\n",
            " 0 3 0 9 9 6 4 4 9 6 7 9 9 9 4 9 0 6 6 6 9 9 0 4 9 7 7 4 4 0 0 0 0 9 3 0 6\n",
            " 3 9 7 4 4 1 9 7 9 4 0 0 9 0 0 6 7 5 0 9 0 0 0 6 7 9 6 9 4 9 9 0 4 0 9 4 9\n",
            " 4 0 0 4 9 4 1 9 3 0 3 7 9 0 4 0 0 7 1 4 4 9 2 6 6 9 6 4 4 9 4 4 4 4 9 7 7\n",
            " 0 0 6 2 9 0 6 6 0 9 0 9 9 9 0 1 6 1 0 9 6 6 9 4 4 0 0 0 6 6 6 9 6 9 0 6 0\n",
            " 6 6 6 0 9 0 9 4 1 8 1 3 1 6]\n",
            "[[1.33038655e+01 1.87298319e+01 8.59060504e+01 5.46020168e+02\n",
            "  9.14051261e-02 8.75619328e-02 5.63799916e-02 3.18368151e-02\n",
            "  1.71925210e-01 6.10831933e-02 2.75860504e-01 1.06143109e+00\n",
            "  1.96024622e+00 2.26547899e+01 5.69570588e-03 2.16079664e-02\n",
            "  2.52602429e-02 9.59427731e-03 1.79695126e-02 3.21739748e-03\n",
            "  1.47558824e+01 2.48302521e+01 9.65297479e+01 6.68491597e+02\n",
            "  1.24408067e-01 2.31892857e-01 2.21682378e-01 9.30483109e-02\n",
            "  2.80426050e-01 8.15390756e-02]\n",
            " [1.99135294e+01 2.21873529e+01 1.31541176e+02 1.23431176e+03\n",
            "  1.00063529e-01 1.48837059e-01 1.79870882e-01 1.03189118e-01\n",
            "  1.91794118e-01 6.02529412e-02 7.42708824e-01 1.15300588e+00\n",
            "  5.17500000e+00 9.30702941e+01 6.14532353e-03 3.08232353e-02\n",
            "  4.26300000e-02 1.58131765e-02 1.94800000e-02 3.69955882e-03\n",
            "  2.46535294e+01 2.95520588e+01 1.64258824e+02 1.85676471e+03\n",
            "  1.40285294e-01 3.70711765e-01 4.71476471e-01 2.00794118e-01\n",
            "  3.18185294e-01 8.70202941e-02]\n",
            " [2.43160000e+01 2.23750000e+01 1.61910000e+02 1.85420000e+03\n",
            "  1.03174000e-01 1.68032000e-01 2.35580000e-01 1.40631000e-01\n",
            "  1.79210000e-01 5.89640000e-02 1.23297000e+00 1.14835000e+00\n",
            "  8.82800000e+00 1.99120000e+02 6.61970000e-03 2.92370000e-02\n",
            "  3.93590000e-02 1.50810000e-02 1.95370000e-02 3.44310000e-03\n",
            "  3.09990000e+01 2.98160000e+01 2.08940000e+02 2.93600000e+03\n",
            "  1.40180000e-01 3.64520000e-01 4.68620000e-01 2.28060000e-01\n",
            "  2.76880000e-01 8.10070000e-02]\n",
            " [1.66638000e+01 2.07238000e+01 1.09338800e+02 8.65620000e+02\n",
            "  9.97934000e-02 1.25780600e-01 1.29400200e-01 7.40740000e-02\n",
            "  1.86254000e-01 6.03448000e-02 5.07854000e-01 1.16393400e+00\n",
            "  3.52056000e+00 5.37032000e+01 6.60368000e-03 2.76925000e-02\n",
            "  3.58760000e-02 1.33981600e-02 1.83552000e-02 3.51030000e-03\n",
            "  1.98780000e+01 2.84210000e+01 1.31598000e+02 1.21500000e+03\n",
            "  1.40787600e-01 3.22567200e-01 3.78972000e-01 1.59645600e-01\n",
            "  3.15414000e-01 8.50952000e-02]\n",
            " [1.47036782e+01 1.96751724e+01 9.61252874e+01 6.68941379e+02\n",
            "  9.78594253e-02 1.17556437e-01 1.03098276e-01 5.59248276e-02\n",
            "  1.83244828e-01 6.25697701e-02 3.66277011e-01 1.06408506e+00\n",
            "  2.62697701e+00 3.29994253e+01 6.30105747e-03 2.73475747e-02\n",
            "  3.40244713e-02 1.29408046e-02 1.94624828e-02 3.72580230e-03\n",
            "  1.68789655e+01 2.64000000e+01 1.12274713e+02 8.72387356e+02\n",
            "  1.35059540e-01 3.07253793e-01 3.40563563e-01 1.38323563e-01\n",
            "  3.00928736e-01 8.75171264e-02]\n",
            " [2.74200000e+01 2.62700000e+01 1.86900000e+02 2.50100000e+03\n",
            "  1.08400000e-01 1.98800000e-01 3.63500000e-01 1.68900000e-01\n",
            "  2.06100000e-01 5.62300000e-02 2.54700000e+00 1.30600000e+00\n",
            "  1.86500000e+01 5.42200000e+02 7.65000000e-03 5.37400000e-02\n",
            "  8.05500000e-02 2.59800000e-02 1.69700000e-02 4.55800000e-03\n",
            "  3.60400000e+01 3.13700000e+01 2.51200000e+02 4.25400000e+03\n",
            "  1.35700000e-01 4.25600000e-01 6.83300000e-01 2.62500000e-01\n",
            "  2.64100000e-01 7.42700000e-02]\n",
            " [9.67473077e+00 1.77228205e+01 6.18244872e+01 2.87002564e+02\n",
            "  9.72243590e-02 8.23483333e-02 4.67906282e-02 1.86753077e-02\n",
            "  1.84562821e-01 6.93942308e-02 3.03461538e-01 1.52944872e+00\n",
            "  2.08427821e+00 1.81051923e+01 1.03231923e-02 2.62625513e-02\n",
            "  3.52811410e-02 1.03885641e-02 2.58941026e-02 5.29807692e-03\n",
            "  1.06348590e+01 2.28014103e+01 6.85088462e+01 3.45534615e+02\n",
            "  1.33208077e-01 1.65925128e-01 1.44518590e-01 5.28589744e-02\n",
            "  2.72964103e-01 8.68620513e-02]\n",
            " [1.86975000e+01 2.12427500e+01 1.23737500e+02 1.09020250e+03\n",
            "  1.01140500e-01 1.48007750e-01 1.68185250e-01 9.52900000e-02\n",
            "  1.95325000e-01 6.16805000e-02 6.84417500e-01 1.32605250e+00\n",
            "  4.92767500e+00 8.13872500e+01 6.92722500e-03 3.42720250e-02\n",
            "  4.41950000e-02 1.69315500e-02 2.25790000e-02 4.59065000e-03\n",
            "  2.24202500e+01 2.82045000e+01 1.50097500e+02 1.53785000e+03\n",
            "  1.39465000e-01 3.46340000e-01 4.33070000e-01 1.84275000e-01\n",
            "  3.13577500e-01 8.76697500e-02]\n",
            " [2.16300000e+01 2.29630769e+01 1.44576923e+02 1.45476923e+03\n",
            "  1.08206923e-01 1.82323077e-01 2.46053846e-01 1.32491538e-01\n",
            "  1.98815385e-01 6.13284615e-02 8.82507692e-01 1.27583077e+00\n",
            "  6.26784615e+00 1.23501538e+02 7.25638462e-03 4.10530769e-02\n",
            "  5.41938462e-02 1.66700000e-02 1.97276923e-02 4.25976923e-03\n",
            "  2.71446154e+01 3.02900000e+01 1.83407692e+02 2.25784615e+03\n",
            "  1.45300000e-01 4.36215385e-01 5.77584615e-01 2.33230769e-01\n",
            "  3.19769231e-01 8.85661538e-02]\n",
            " [1.17627737e+01 1.79856204e+01 7.55329197e+01 4.25260584e+02\n",
            "  9.39433577e-02 7.86894161e-02 4.35572460e-02 2.48390438e-02\n",
            "  1.75578832e-01 6.29957664e-02 2.75975182e-01 1.27292409e+00\n",
            "  1.96277883e+00 1.99179781e+01 7.23162774e-03 2.05452482e-02\n",
            "  2.36483044e-02 9.89640146e-03 2.10597080e-02 3.35578978e-03\n",
            "  1.29590511e+01 2.41089781e+01 8.42299270e+01 5.13079562e+02\n",
            "  1.28165547e-01 1.83069781e-01 1.63604847e-01 7.46398686e-02\n",
            "  2.76556934e-01 7.96850365e-02]]\n"
          ]
        }
      ]
    },
    {
      "cell_type": "code",
      "metadata": {
        "colab": {
          "base_uri": "https://localhost:8080/",
          "height": 197
        },
        "id": "mE5L94I4Kg0d",
        "outputId": "17adfbe1-660e-4066-f4b5-c816080a6e9b"
      },
      "source": [
        "# Scatter plot of the data points\n",
        "import matplotlib.pyplot as plt\n",
        "fig, ax = plt.subplots(2, 5, figsize=(8, 3))\n",
        "centers = kmeans.cluster_centers_.reshape(10, 6, 5)\n",
        "for axi, center in zip(ax.flat, centers):\n",
        "  axi.set(xticks=[], yticks=[])\n",
        "  axi.imshow(center, interpolation='nearest', cmap=plt.cm.binary)"
      ],
      "execution_count": 7,
      "outputs": [
        {
          "output_type": "display_data",
          "data": {
            "image/png": "[encoded data removed]",
            "text/plain": [
              "<Figure size 576x216 with 10 Axes>"
            ]
          },
          "metadata": {}
        }
      ]
    },
    {
      "cell_type": "code",
      "metadata": {
        "id": "fcalP3RoKnk1"
      },
      "source": [
        "import numpy as np\n",
        "from scipy.stats import mode\n",
        "labels = np.zeros_like(prediction)\n",
        "for i in range(10):\n",
        "  mask = (prediction == i)\n",
        "  labels[mask] = mode(dataset.target[mask])[0]"
      ],
      "execution_count": 8,
      "outputs": []
    },
    {
      "cell_type": "code",
      "metadata": {
        "colab": {
          "base_uri": "https://localhost:8080/"
        },
        "id": "dVs1TjXVKts9",
        "outputId": "cb2e578f-7fa4-4d31-f6ba-2b270a3943a3"
      },
      "source": [
        "from sklearn.metrics import accuracy_score\n",
        "accuracy_score(dataset.target, labels)"
      ],
      "execution_count": 9,
      "outputs": [
        {
          "output_type": "execute_result",
          "data": {
            "text/plain": [
              "0.8892794376098418"
            ]
          },
          "metadata": {},
          "execution_count": 9
        }
      ]
    },
    {
      "cell_type": "code",
      "metadata": {
        "colab": {
          "base_uri": "https://localhost:8080/",
          "height": 279
        },
        "id": "yhL3XQn_KwtF",
        "outputId": "f0d20c26-bda6-4959-879c-2d8b90c025f7"
      },
      "source": [
        "from sklearn.metrics import confusion_matrix\n",
        "import seaborn as sns\n",
        "mat = confusion_matrix(dataset.target, labels)\n",
        "ax = sns.heatmap(mat.T, square=True, annot=True, fmt='d', cbar=False,xticklabels=dataset.target_names,yticklabels=dataset.target_names)\n",
        "\n",
        "#ax.set_ylim(10,10)\n",
        "plt.xlabel('true label')\n",
        "plt.ylabel('predicted label');"
      ],
      "execution_count": 10,
      "outputs": [
        {
          "output_type": "display_data",
          "data": {
            "image/png": "[encoded data removed]",
            "text/plain": [
              "<Figure size 432x288 with 1 Axes>"
            ]
          },
          "metadata": {
            "needs_background": "light"
          }
        }
      ]
    }
  ]
}