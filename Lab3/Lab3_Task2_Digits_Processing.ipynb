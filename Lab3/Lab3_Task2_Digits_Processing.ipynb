{
  "nbformat": 4,
  "nbformat_minor": 0,
  "metadata": {
    "colab": {
      "name": "Lab3_Task2_Digits_Processing.ipynb",
      "provenance": [],
      "collapsed_sections": []
    },
    "kernelspec": {
      "name": "python3",
      "display_name": "Python 3"
    },
    "language_info": {
      "name": "python"
    }
  },
  "cells": [
    {
      "cell_type": "markdown",
      "metadata": {
        "id": "OZBKqqDvlqr9"
      },
      "source": [
        "### CE008 : Lab 3 - Task 2: Apply algorithm on digits dataset - LabelEncoding of features: and Train test Division 80%-20%"
      ]
    },
    {
      "cell_type": "code",
      "metadata": {
        "id": "S9og7nHal0tz"
      },
      "source": [
        "import numpy as np\n",
        "import pandas as pd\n",
        "import matplotlib.pyplot as plt\n",
        "\n",
        "from sklearn import datasets\n",
        "\n",
        "from sklearn.preprocessing import LabelEncoder\n",
        "from sklearn.naive_bayes import MultinomialNB\n",
        "from sklearn.model_selection import train_test_split\n",
        "from sklearn.metrics import accuracy_score, confusion_matrix, precision_score, recall_score"
      ],
      "execution_count": 1,
      "outputs": []
    },
    {
      "cell_type": "code",
      "metadata": {
        "colab": {
          "base_uri": "https://localhost:8080/"
        },
        "id": "nPCjA2-Vl6GV",
        "outputId": "28880190-6de9-417e-eb63-6d4c82aa601d"
      },
      "source": [
        "ds_digit = datasets.load_digits()\n",
        "print(\"No. of examples and features in the dataset are:\", ds_digit.data.shape)\n",
        "ds = pd.DataFrame(ds_digit.data)\n",
        "#ds.head()"
      ],
      "execution_count": 2,
      "outputs": [
        {
          "output_type": "stream",
          "name": "stdout",
          "text": [
            "No. of examples and features in the dataset are: (1797, 64)\n"
          ]
        }
      ]
    },
    {
      "cell_type": "code",
      "metadata": {
        "id": "vpJBuLN-bhNR"
      },
      "source": [
        "#ds.info()\n",
        "#ds.describe()"
      ],
      "execution_count": 3,
      "outputs": []
    },
    {
      "cell_type": "markdown",
      "metadata": {
        "id": "V8GYtS_BTuxo"
      },
      "source": [
        "Printing the names of features and label types of digits"
      ]
    },
    {
      "cell_type": "code",
      "metadata": {
        "colab": {
          "base_uri": "https://localhost:8080/"
        },
        "id": "gh1pphbKl8BN",
        "outputId": "23704a16-e23a-4bf4-d7ca-38367dddea62"
      },
      "source": [
        "print(\"Features are as follows:\\n\", ds_digit.data)\n",
        "print(\"\\nLabels:\\n\", np.unique(ds_digit.target))"
      ],
      "execution_count": 4,
      "outputs": [
        {
          "output_type": "stream",
          "name": "stdout",
          "text": [
            "Features are as follows:\n",
            " [[ 0.  0.  5. ...  0.  0.  0.]\n",
            " [ 0.  0.  0. ... 10.  0.  0.]\n",
            " [ 0.  0.  0. ... 16.  9.  0.]\n",
            " ...\n",
            " [ 0.  0.  1. ...  6.  0.  0.]\n",
            " [ 0.  0.  2. ... 12.  0.  0.]\n",
            " [ 0.  0. 10. ... 12.  1.  0.]]\n",
            "\n",
            "Labels:\n",
            " [0 1 2 3 4 5 6 7 8 9]\n"
          ]
        }
      ]
    },
    {
      "cell_type": "markdown",
      "metadata": {
        "id": "vCfTX2qdUQL5"
      },
      "source": [
        "**Splitting the dataset into the training and testing dataset. (Roll no: 7)\n",
        "  => Set Random state of model equals to your roll number**"
      ]
    },
    {
      "cell_type": "code",
      "metadata": {
        "id": "awBMIIPRl92V"
      },
      "source": [
        "training_data, testing_data, training_target, testing_target = train_test_split(ds_digit.data, ds_digit.target, test_size = 0.20, random_state = 8)"
      ],
      "execution_count": 5,
      "outputs": []
    },
    {
      "cell_type": "markdown",
      "metadata": {
        "id": "juGX5ih1VHeo"
      },
      "source": [
        "Creating an instance of classifier and fitting the model."
      ]
    },
    {
      "cell_type": "code",
      "metadata": {
        "colab": {
          "base_uri": "https://localhost:8080/"
        },
        "id": "y_oIJTS-l_wt",
        "outputId": "9a1674a6-c8e7-42e6-c3d9-fcc5b3e5d7ac"
      },
      "source": [
        "mnb=MultinomialNB()\n",
        "mnb.fit(training_data,training_target)"
      ],
      "execution_count": 6,
      "outputs": [
        {
          "output_type": "execute_result",
          "data": {
            "text/plain": [
              "MultinomialNB(alpha=1.0, class_prior=None, fit_prior=True)"
            ]
          },
          "metadata": {},
          "execution_count": 6
        }
      ]
    },
    {
      "cell_type": "markdown",
      "metadata": {
        "id": "UnJcACD6VcA9"
      },
      "source": [
        "Testing the model and getting accuracy score, confusion matrix, precision score and recall score"
      ]
    },
    {
      "cell_type": "code",
      "metadata": {
        "colab": {
          "base_uri": "https://localhost:8080/"
        },
        "id": "UFiA0exMmCNd",
        "outputId": "d1a1c587-5b33-4af7-b7a5-c071e30476ba"
      },
      "source": [
        "# Testing\n",
        "prediction_target = mnb.predict(testing_data)\n",
        "\n",
        "# Getting Accuracy\n",
        "accuracy = accuracy_score(testing_target, prediction_target)\n",
        "print(\"Accuracy Score:\\n\", accuracy)\n",
        "\n",
        "# Getting Confusion Matrix\n",
        "cm = confusion_matrix(testing_target, prediction_target)\n",
        "print(\"\\nConfusion Matrix:\\n\",cm)\n",
        "\n",
        "# Getting Precision\n",
        "precision = precision_score(testing_target, prediction_target, average=None)\n",
        "print(\"\\nPrecision Score:\\n\", precision)\n",
        "\n",
        "# Getting Recall\n",
        "recall = recall_score(testing_target, prediction_target, average=None)\n",
        "print(\"\\nRecall Score:\\n\", recall)"
      ],
      "execution_count": 7,
      "outputs": [
        {
          "output_type": "stream",
          "name": "stdout",
          "text": [
            "Accuracy Score:\n",
            " 0.8833333333333333\n",
            "\n",
            "Confusion Matrix:\n",
            " [[34  0  0  0  0  0  0  0  0  0]\n",
            " [ 0 31  1  0  0  1  1  0  0  3]\n",
            " [ 0  2 29  0  0  0  0  0  1  0]\n",
            " [ 0  0  1 33  0  0  0  1  0  3]\n",
            " [ 1  0  0  0 22  0  0  2  1  0]\n",
            " [ 0  0  0  0  0 38  0  0  2  9]\n",
            " [ 0  1  0  0  0  0 36  0  0  0]\n",
            " [ 0  0  0  0  0  0  0 40  0  0]\n",
            " [ 0  6  1  0  0  0  0  0 24  2]\n",
            " [ 0  0  0  0  0  0  0  2  1 31]]\n",
            "\n",
            "Precision Score:\n",
            " [0.97142857 0.775      0.90625    1.         1.         0.97435897\n",
            " 0.97297297 0.88888889 0.82758621 0.64583333]\n",
            "\n",
            "Recall Score:\n",
            " [1.         0.83783784 0.90625    0.86842105 0.84615385 0.7755102\n",
            " 0.97297297 1.         0.72727273 0.91176471]\n"
          ]
        }
      ]
    },
    {
      "cell_type": "code",
      "metadata": {
        "colab": {
          "base_uri": "https://localhost:8080/",
          "height": 309
        },
        "id": "22txVnF4mIn1",
        "outputId": "d722d3fe-8aa5-4228-a4e0-53bfcef709f2"
      },
      "source": [
        "plt.gray() \n",
        "plt.matshow(ds_digit.images[100]) "
      ],
      "execution_count": 9,
      "outputs": [
        {
          "output_type": "execute_result",
          "data": {
            "text/plain": [
              "<matplotlib.image.AxesImage at 0x7f93f63a5c50>"
            ]
          },
          "metadata": {},
          "execution_count": 9
        },
        {
          "output_type": "display_data",
          "data": {
            "text/plain": [
              "<Figure size 432x288 with 0 Axes>"
            ]
          },
          "metadata": {}
        },
        {
          "output_type": "display_data",
          "data": {
            "image/png": "[encoded data removed]",
            "text/plain": [
              "<Figure size 288x288 with 1 Axes>"
            ]
          },
          "metadata": {
            "needs_background": "light"
          }
        }
      ]
    }
  ]
}