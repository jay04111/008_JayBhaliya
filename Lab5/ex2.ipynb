{
  "nbformat": 4,
  "nbformat_minor": 0,
  "metadata": {
    "kernelspec": {
      "display_name": "Python 3",
      "language": "python",
      "name": "python3"
    },
    "language_info": {
      "codemirror_mode": {
        "name": "ipython",
        "version": 3
      },
      "file_extension": ".py",
      "mimetype": "text/x-python",
      "name": "python",
      "nbconvert_exporter": "python",
      "pygments_lexer": "ipython3",
      "version": "3.8.3"
    },
    "colab": {
      "name": "ex2.ipynb",
      "provenance": []
    }
  },
  "cells": [
    {
      "cell_type": "markdown",
      "metadata": {
        "id": "J1ilwzgdZVx_"
      },
      "source": [
        "#Task2: Try Linear regression on same prediction data using Tensorflow"
      ]
    },
    {
      "cell_type": "code",
      "metadata": {
        "id": "LmJfRlyJZQrC"
      },
      "source": [
        "import numpy as np\n",
        "import tensorflow as tf"
      ],
      "execution_count": 9,
      "outputs": []
    },
    {
      "cell_type": "code",
      "metadata": {
        "id": "-5YncrZRZQrH"
      },
      "source": [
        "inputs = np.array([[73, 67, 43], [91, 88, 64], [87, 134, 58], [102, 43, 37], [69, 96, 70],[73, 67, 43], [91, 88, 64], \n",
        "                   [87, 134, 58], [102, 43, 37], [69, 96, 70], [73, 67, 43], [91, 88, 64], [87, 134, 58], [102, 43, 37], \n",
        "                   [69, 96, 70]], dtype='float64')\n",
        "\n",
        "targets = np.array([[56, 70], [81, 101], [119, 133], [22, 37], [103, 119],[56, 70], [81, 101], [119, 133], [22, 37], \n",
        "                    [103, 119],[56, 70], [81, 101], [119, 133], [22, 37], [103, 119]], dtype='float64')"
      ],
      "execution_count": 2,
      "outputs": []
    },
    {
      "cell_type": "code",
      "metadata": {
        "colab": {
          "base_uri": "https://localhost:8080/"
        },
        "id": "DVu7ljiDZQrI",
        "outputId": "dfa0cf69-bf75-4441-b72a-73ebaccdc13b"
      },
      "source": [
        "inputs = tf.Variable(inputs)\n",
        "targets = tf.Variable(targets)\n",
        "print(\"targets :\\n\",targets)"
      ],
      "execution_count": 3,
      "outputs": [
        {
          "output_type": "stream",
          "name": "stdout",
          "text": [
            "targets :\n",
            " <tf.Variable 'Variable:0' shape=(15, 2) dtype=float64, numpy=\n",
            "array([[ 56.,  70.],\n",
            "       [ 81., 101.],\n",
            "       [119., 133.],\n",
            "       [ 22.,  37.],\n",
            "       [103., 119.],\n",
            "       [ 56.,  70.],\n",
            "       [ 81., 101.],\n",
            "       [119., 133.],\n",
            "       [ 22.,  37.],\n",
            "       [103., 119.],\n",
            "       [ 56.,  70.],\n",
            "       [ 81., 101.],\n",
            "       [119., 133.],\n",
            "       [ 22.,  37.],\n",
            "       [103., 119.]])>\n"
          ]
        }
      ]
    },
    {
      "cell_type": "code",
      "metadata": {
        "colab": {
          "base_uri": "https://localhost:8080/"
        },
        "id": "5wlZ_7VMZQrK",
        "outputId": "98340026-14a4-4616-85fc-432d94c53626"
      },
      "source": [
        "v = np.random.rand(3,2)\n",
        "r = np.random.randn(2)\n",
        "v = tf.Variable(v)\n",
        "r = tf.Variable(r)\n",
        "\n",
        "print(v)\n",
        "print(\"\\n\",r)"
      ],
      "execution_count": 4,
      "outputs": [
        {
          "output_type": "stream",
          "name": "stdout",
          "text": [
            "<tf.Variable 'Variable:0' shape=(3, 2) dtype=float64, numpy=\n",
            "array([[0.46262758, 0.78796204],\n",
            "       [0.85992879, 0.52667661],\n",
            "       [0.33017074, 0.76194342]])>\n",
            "\n",
            " <tf.Variable 'Variable:0' shape=(2,) dtype=float64, numpy=array([0.42572415, 1.31166704])>\n"
          ]
        }
      ]
    },
    {
      "cell_type": "code",
      "metadata": {
        "id": "E_oL9WFhZQrL"
      },
      "source": [
        "def model(s):\n",
        "    return s @ v + r"
      ],
      "execution_count": 5,
      "outputs": []
    },
    {
      "cell_type": "code",
      "metadata": {
        "colab": {
          "base_uri": "https://localhost:8080/"
        },
        "id": "KbI3OOQmZQrL",
        "outputId": "708a1793-e0fc-4231-d9ce-21228ae5db35"
      },
      "source": [
        "prediction = model(inputs)\n",
        "print(prediction)"
      ],
      "execution_count": 6,
      "outputs": [
        {
          "output_type": "stream",
          "name": "stdout",
          "text": [
            "tf.Tensor(\n",
            "[[106.01010819 126.88379616]\n",
            " [139.32949474 168.12813355]\n",
            " [175.05468448 184.63174896]\n",
            " [ 96.80699247 132.52279629]\n",
            " [138.01214281 159.57804195]\n",
            " [106.01010819 126.88379616]\n",
            " [139.32949474 168.12813355]\n",
            " [175.05468448 184.63174896]\n",
            " [ 96.80699247 132.52279629]\n",
            " [138.01214281 159.57804195]\n",
            " [106.01010819 126.88379616]\n",
            " [139.32949474 168.12813355]\n",
            " [175.05468448 184.63174896]\n",
            " [ 96.80699247 132.52279629]\n",
            " [138.01214281 159.57804195]], shape=(15, 2), dtype=float64)\n"
          ]
        }
      ]
    },
    {
      "cell_type": "code",
      "metadata": {
        "colab": {
          "base_uri": "https://localhost:8080/"
        },
        "id": "JmIALX3KZQrM",
        "outputId": "a06ad237-edb7-48b1-879d-34ac8285b5a4"
      },
      "source": [
        "def mse(t1,t2):\n",
        "    return tf.reduce_mean(tf.square(t1 - t2))\n",
        "print(mse(prediction,targets))"
      ],
      "execution_count": 7,
      "outputs": [
        {
          "output_type": "stream",
          "name": "stdout",
          "text": [
            "tf.Tensor(3704.637697597697, shape=(), dtype=float64)\n"
          ]
        }
      ]
    },
    {
      "cell_type": "code",
      "metadata": {
        "colab": {
          "base_uri": "https://localhost:8080/"
        },
        "id": "7qbjDtJ1ZQrN",
        "outputId": "35fdfef0-3802-4b2e-9c7c-c1cf90cad315"
      },
      "source": [
        "epochs = 40\n",
        "for epoch_count in range(epochs):\n",
        "    \n",
        "    with tf.GradientTape(persistent=True) as t:\n",
        "        current_loss = mse(targets, model(inputs))\n",
        "\n",
        "    v1 = t.gradient(current_loss,v)\n",
        "    r1 = t.gradient(current_loss,r)\n",
        "\n",
        "    v.assign_sub(1e-4 * v1)\n",
        "    r.assign_sub(1e-4 * r1)\n",
        "        \n",
        "    print(f\" \\n Epoch count: {epoch_count} \\n Loss value: {current_loss.numpy()}\")\n"
      ],
      "execution_count": 8,
      "outputs": [
        {
          "output_type": "stream",
          "name": "stdout",
          "text": [
            " \n",
            " Epoch count: 0 \n",
            " Loss value: 3704.637697597697\n",
            " \n",
            " Epoch count: 1 \n",
            " Loss value: 2441.4522198765744\n",
            " \n",
            " Epoch count: 2 \n",
            " Loss value: 1636.6267068196455\n",
            " \n",
            " Epoch count: 3 \n",
            " Loss value: 1120.3271531808869\n",
            " \n",
            " Epoch count: 4 \n",
            " Loss value: 786.0882152809912\n",
            " \n",
            " Epoch count: 5 \n",
            " Loss value: 567.1144509630502\n",
            " \n",
            " Epoch count: 6 \n",
            " Loss value: 421.4511928402279\n",
            " \n",
            " Epoch count: 7 \n",
            " Loss value: 322.70463054012026\n",
            " \n",
            " Epoch count: 8 \n",
            " Loss value: 254.23380853427037\n",
            " \n",
            " Epoch count: 9 \n",
            " Loss value: 205.51494987516602\n",
            " \n",
            " Epoch count: 10 \n",
            " Loss value: 169.86504980062827\n",
            " \n",
            " Epoch count: 11 \n",
            " Loss value: 143.01606131007526\n",
            " \n",
            " Epoch count: 12 \n",
            " Loss value: 122.22141664631924\n",
            " \n",
            " Epoch count: 13 \n",
            " Loss value: 105.69575933169452\n",
            " \n",
            " Epoch count: 14 \n",
            " Loss value: 92.26329224842162\n",
            " \n",
            " Epoch count: 15 \n",
            " Loss value: 81.13677620655463\n",
            " \n",
            " Epoch count: 16 \n",
            " Loss value: 71.77838674913436\n",
            " \n",
            " Epoch count: 17 \n",
            " Loss value: 63.81188977081873\n",
            " \n",
            " Epoch count: 18 \n",
            " Loss value: 56.967017284287444\n",
            " \n",
            " Epoch count: 19 \n",
            " Loss value: 51.044071083534796\n",
            " \n",
            " Epoch count: 20 \n",
            " Loss value: 45.891254255560085\n",
            " \n",
            " Epoch count: 21 \n",
            " Loss value: 41.390029541913165\n",
            " \n",
            " Epoch count: 22 \n",
            " Loss value: 37.44555572972923\n",
            " \n",
            " Epoch count: 23 \n",
            " Loss value: 33.98035037589959\n",
            " \n",
            " Epoch count: 24 \n",
            " Loss value: 30.93001437399483\n",
            " \n",
            " Epoch count: 25 \n",
            " Loss value: 28.240284532232018\n",
            " \n",
            " Epoch count: 26 \n",
            " Loss value: 25.864950403066576\n",
            " \n",
            " Epoch count: 27 \n",
            " Loss value: 23.76434113485861\n",
            " \n",
            " Epoch count: 28 \n",
            " Loss value: 21.90419467662975\n",
            " \n",
            " Epoch count: 29 \n",
            " Loss value: 20.254788772396413\n",
            " \n",
            " Epoch count: 30 \n",
            " Loss value: 18.79025554992437\n",
            " \n",
            " Epoch count: 31 \n",
            " Loss value: 17.488028354139185\n",
            " \n",
            " Epoch count: 32 \n",
            " Loss value: 16.328386568016292\n",
            " \n",
            " Epoch count: 33 \n",
            " Loss value: 15.294075118471328\n",
            " \n",
            " Epoch count: 34 \n",
            " Loss value: 14.369982447528225\n",
            " \n",
            " Epoch count: 35 \n",
            " Loss value: 13.54286536137943\n",
            " \n",
            " Epoch count: 36 \n",
            " Loss value: 12.80111224460599\n",
            " \n",
            " Epoch count: 37 \n",
            " Loss value: 12.134538205330658\n",
            " \n",
            " Epoch count: 38 \n",
            " Loss value: 11.534207153377785\n",
            " \n",
            " Epoch count: 39 \n",
            " Loss value: 10.992276831375976\n"
          ]
        }
      ]
    }
  ]
}