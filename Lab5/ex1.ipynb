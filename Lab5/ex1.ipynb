{
  "nbformat": 4,
  "nbformat_minor": 0,
  "metadata": {
    "colab": {
      "name": "ex1.ipynb",
      "provenance": []
    },
    "kernelspec": {
      "name": "python3",
      "display_name": "Python 3",
      "language": "python"
    },
    "language_info": {
      "name": "python",
      "version": "3.6.13",
      "mimetype": "text/x-python",
      "codemirror_mode": {
        "name": "ipython",
        "version": 3
      },
      "pygments_lexer": "ipython3",
      "nbconvert_exporter": "python",
      "file_extension": ".py"
    }
  },
  "cells": [
    {
      "cell_type": "markdown",
      "metadata": {
        "id": "0eXVUpoKZwNr"
      },
      "source": [
        "#Task 1 :Try Linear Regression just using numpy (Without Tensorflow/Pytorch or other torch library)."
      ]
    },
    {
      "cell_type": "code",
      "metadata": {
        "id": "W6NK3ltgYHJ3",
        "trusted": true
      },
      "source": [
        "import numpy as np\n",
        "from sklearn.linear_model import LinearRegression"
      ],
      "execution_count": 1,
      "outputs": []
    },
    {
      "cell_type": "code",
      "metadata": {
        "colab": {
          "base_uri": "https://localhost:8080/"
        },
        "id": "lHVGJ7nNYHJ4",
        "trusted": true,
        "outputId": "628ce782-b045-4c6c-b726-06416a32cffd"
      },
      "source": [
        "inputs = np.array([[73, 67, 43],\n",
        "                    [91, 88, 64],\n",
        "                    [87, 134, 58],\n",
        "                    [102, 43, 37],\n",
        "                    [69, 96, 70],\n",
        "                    [73, 67, 43],\n",
        "                    [91, 88, 64],\n",
        "                    [87, 134, 58],\n",
        "                    [102, 43, 37],\n",
        "                    [69, 96, 70],\n",
        "                    [73, 67, 43], \n",
        "                    [91, 88, 64], \n",
        "                    [87, 134, 58], \n",
        "                    [102, 43, 37], \n",
        "                    [69, 96, 70]], dtype='float32')\n",
        "print(inputs.shape)"
      ],
      "execution_count": 2,
      "outputs": [
        {
          "output_type": "stream",
          "name": "stdout",
          "text": [
            "(15, 3)\n"
          ]
        }
      ]
    },
    {
      "cell_type": "code",
      "metadata": {
        "id": "3NunoIBCYHJ6",
        "trusted": true
      },
      "source": [
        "targets = np.array([[56, 70], [81, 101], [119, 133], [22, 37], [103, 119],\n",
        "[56, 70], [81, 101], [119, 133], [22, 37], [103, 119],\n",
        "[56, 70], [81, 101], [119, 133], [22, 37], [103, 119]], dtype='float32')"
      ],
      "execution_count": 3,
      "outputs": []
    },
    {
      "cell_type": "code",
      "metadata": {
        "id": "GGlX1RMbYHJ6",
        "trusted": true
      },
      "source": [
        "from sklearn.model_selection import train_test_split\n",
        "x_train,x_test,y_train,y_test = train_test_split(inputs,targets,test_size=0.3, random_state=8)"
      ],
      "execution_count": 10,
      "outputs": []
    },
    {
      "cell_type": "code",
      "metadata": {
        "colab": {
          "base_uri": "https://localhost:8080/"
        },
        "id": "_7ez_dU0YHJ7",
        "trusted": true,
        "outputId": "e6fb5120-d37a-49b7-ece2-7b230d1db45d"
      },
      "source": [
        "reg = LinearRegression().fit(x_train,y_train)\n",
        "print(reg)"
      ],
      "execution_count": 11,
      "outputs": [
        {
          "output_type": "stream",
          "name": "stdout",
          "text": [
            "LinearRegression(copy_X=True, fit_intercept=True, n_jobs=None, normalize=False)\n"
          ]
        }
      ]
    },
    {
      "cell_type": "code",
      "metadata": {
        "colab": {
          "base_uri": "https://localhost:8080/"
        },
        "id": "qisKJXBxYHJ8",
        "trusted": true,
        "outputId": "d740cf66-6625-4d78-f843-10ac98cec930"
      },
      "source": [
        "print(reg.intercept_)\n",
        "print(reg.coef_)"
      ],
      "execution_count": 12,
      "outputs": [
        {
          "output_type": "stream",
          "name": "stdout",
          "text": [
            "[-5.052086  -1.9788971]\n",
            "[[-0.36587772  0.83573174  0.74966705]\n",
            " [-0.28667942  0.79484916  0.92136675]]\n"
          ]
        }
      ]
    },
    {
      "cell_type": "code",
      "metadata": {
        "colab": {
          "base_uri": "https://localhost:8080/"
        },
        "id": "-wIb51_WYHJ9",
        "trusted": true,
        "outputId": "84204067-d77b-4580-8da6-7d751893ceae"
      },
      "source": [
        "y_pred = reg.predict(x_test)\n",
        "print(y_pred,\"\\n\")\n",
        "print(y_test)"
      ],
      "execution_count": 13,
      "outputs": [
        {
          "output_type": "stream",
          "name": "stdout",
          "text": [
            "[[ 83.176125 100.84747 ]\n",
            " [ 83.176125 100.84747 ]\n",
            " [118.5853   133.02905 ]\n",
            " [118.5853   133.02905 ]\n",
            " [ 21.302534  37.048885]] \n",
            "\n",
            "[[ 81. 101.]\n",
            " [ 81. 101.]\n",
            " [119. 133.]\n",
            " [119. 133.]\n",
            " [ 22.  37.]]\n"
          ]
        }
      ]
    },
    {
      "cell_type": "code",
      "metadata": {
        "colab": {
          "base_uri": "https://localhost:8080/"
        },
        "id": "yrVwSpngYHJ-",
        "trusted": true,
        "outputId": "64415b87-6496-4bd8-aa1c-15872b5e6fa5"
      },
      "source": [
        "from sklearn import metrics\n",
        "print('\\n Mean Squared Error:', metrics.mean_squared_error(y_test, y_pred))"
      ],
      "execution_count": 14,
      "outputs": [
        {
          "output_type": "stream",
          "name": "stdout",
          "text": [
            "\n",
            " Mean Squared Error: 1.035206\n"
          ]
        }
      ]
    }
  ]
}